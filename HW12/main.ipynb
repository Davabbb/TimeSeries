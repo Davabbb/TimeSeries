{
 "cells": [
  {
   "cell_type": "code",
   "execution_count": 14,
   "metadata": {
    "collapsed": true,
    "ExecuteTime": {
     "end_time": "2024-01-03T12:09:09.581577Z",
     "start_time": "2024-01-03T12:09:09.449874Z"
    }
   },
   "outputs": [],
   "source": [
    "import pandas as pd\n",
    "import matplotlib.pyplot as plt"
   ]
  },
  {
   "cell_type": "code",
   "execution_count": 15,
   "outputs": [],
   "source": [
    "ts = pd.read_csv('Month_Value_1.csv')\n",
    "validation = pd.read_csv(\"Month_Value_1.csv\")"
   ],
   "metadata": {
    "collapsed": false,
    "ExecuteTime": {
     "end_time": "2024-01-03T12:09:09.656967Z",
     "start_time": "2024-01-03T12:09:09.456035Z"
    }
   }
  },
  {
   "cell_type": "code",
   "execution_count": 16,
   "outputs": [],
   "source": [
    "def data_split(ts, param=\"1\", train_percentage=0.7):\n",
    "    timeseries = ts[ts.columns[int(param)]].values.astype('float32')\n",
    "    train_size = int(len(timeseries) * train_percentage)\n",
    "    train, test = timeseries[:train_size], timeseries[train_size:]\n",
    "    return train, test, timeseries"
   ],
   "metadata": {
    "collapsed": false,
    "ExecuteTime": {
     "end_time": "2024-01-03T12:09:09.659002Z",
     "start_time": "2024-01-03T12:09:09.564109Z"
    }
   }
  },
  {
   "cell_type": "code",
   "execution_count": 17,
   "outputs": [],
   "source": [
    "import torch\n",
    "\n",
    "lookback = 1\n",
    "def create_dataset(dataset, lookback):\n",
    "    X, y = [], []\n",
    "    for i in range(len(dataset) - lookback):\n",
    "        feature = dataset[i:i + lookback]\n",
    "        target = dataset[i + 1:i + lookback + 1]\n",
    "        X.append(feature)\n",
    "        y.append(target)\n",
    "    return torch.tensor(X), torch.tensor(y)"
   ],
   "metadata": {
    "collapsed": false,
    "ExecuteTime": {
     "end_time": "2024-01-03T12:09:09.659134Z",
     "start_time": "2024-01-03T12:09:09.566318Z"
    }
   }
  },
  {
   "cell_type": "code",
   "execution_count": 18,
   "outputs": [],
   "source": [
    "train, test, total = data_split(ts)\n",
    "\n",
    "X_train, y_train = create_dataset(train, lookback=lookback)\n",
    "X_test, y_test = create_dataset(test, lookback=lookback)"
   ],
   "metadata": {
    "collapsed": false,
    "ExecuteTime": {
     "end_time": "2024-01-03T12:09:09.786346Z",
     "start_time": "2024-01-03T12:09:09.721793Z"
    }
   }
  },
  {
   "cell_type": "code",
   "execution_count": 19,
   "outputs": [],
   "source": [
    "import torch.nn as nn\n",
    "\n",
    "class AirModel(nn.Module):\n",
    "    def __init__(self):\n",
    "        super().__init__()\n",
    "        self.lstm = nn.LSTM(input_size=1, hidden_size=50, num_layers=1, batch_first=True)\n",
    "        self.linear = nn.Linear(50, 1)\n",
    "    def forward(self, x):\n",
    "        x, _ = self.lstm(x)\n",
    "        x = self.linear(x)\n",
    "        return x"
   ],
   "metadata": {
    "collapsed": false,
    "ExecuteTime": {
     "end_time": "2024-01-03T12:09:09.791950Z",
     "start_time": "2024-01-03T12:09:09.785454Z"
    }
   }
  },
  {
   "cell_type": "code",
   "execution_count": 20,
   "outputs": [],
   "source": [
    "import torch.optim as optim\n",
    "import torch.utils.data as torch_data\n",
    "import numpy as np\n",
    "\n",
    "model = AirModel()\n",
    "optimizer = optim.Adam(model.parameters())\n",
    "loss_fn = nn.MSELoss()\n",
    "loader = torch_data.DataLoader(torch_data.TensorDataset(X_train, y_train), shuffle=True, batch_size=8)\n",
    "\n",
    "EPOCHS = 20"
   ],
   "metadata": {
    "collapsed": false,
    "ExecuteTime": {
     "end_time": "2024-01-03T12:09:09.795955Z",
     "start_time": "2024-01-03T12:09:09.790383Z"
    }
   }
  },
  {
   "cell_type": "code",
   "execution_count": 21,
   "outputs": [],
   "source": [
    "def train_model(model, X_train, X_test, y_train, y_test, n_epochs):\n",
    "    y_pred_train = None\n",
    "    y_pred_test = None\n",
    "\n",
    "    for epoch in range(1, n_epochs + 1):\n",
    "        model.train()\n",
    "        for X_batch, y_batch in loader:\n",
    "            y_pred = model(X_batch)\n",
    "            loss = loss_fn(y_pred, y_batch)\n",
    "            optimizer.zero_grad()\n",
    "            loss.backward()\n",
    "            optimizer.step()\n",
    "        if epoch % 10 != 0 and epoch > 1:\n",
    "            continue\n",
    "        model.eval()\n",
    "        with torch.no_grad():\n",
    "            y_pred = model(X_train)\n",
    "            y_pred_train = y_pred\n",
    "            train_rmse = np.sqrt(loss_fn(y_pred, y_train))\n",
    "            y_pred = model(X_test)\n",
    "            y_pred_test = y_pred\n",
    "            test_rmse = np.sqrt(loss_fn(y_pred, y_test))\n",
    "        print(\"Epoch %d: train RMSE %.4f, test RMSE %.4f\" % (epoch, train_rmse, test_rmse))\n",
    "    return y_pred_train, y_pred_test, model"
   ],
   "metadata": {
    "collapsed": false,
    "ExecuteTime": {
     "end_time": "2024-01-03T12:09:09.800183Z",
     "start_time": "2024-01-03T12:09:09.798289Z"
    }
   }
  },
  {
   "cell_type": "code",
   "execution_count": 22,
   "outputs": [
    {
     "name": "stdout",
     "output_type": "stream",
     "text": [
      "Epoch 1: train RMSE 0.0029, test RMSE 0.0027\n",
      "Epoch 10: train RMSE 0.0018, test RMSE 0.0018\n",
      "Epoch 20: train RMSE 0.0016, test RMSE 0.0016\n"
     ]
    }
   ],
   "source": [
    "y_pred_train, y_pred_test, model = train_model(model, X_train, X_test, y_train, y_test, EPOCHS)"
   ],
   "metadata": {
    "collapsed": false,
    "ExecuteTime": {
     "end_time": "2024-01-03T12:12:18.995682Z",
     "start_time": "2024-01-03T12:09:09.801794Z"
    }
   }
  },
  {
   "cell_type": "code",
   "execution_count": 23,
   "outputs": [],
   "source": [
    "import numpy as np\n",
    "from sklearn.metrics import mean_absolute_error, mean_squared_error, r2_score\n",
    "from math import sqrt\n",
    "\n",
    "def mean_absolute_percentage_error(y_true, y_pred):\n",
    "    return np.mean(np.abs((y_true - y_pred) / y_true)) * 100\n",
    "\n",
    "def validate(true, pred):\n",
    "    true = pd.DataFrame(true.flatten().numpy())[0]\n",
    "    pred = pd.DataFrame(pred.flatten().numpy())[0]\n",
    "    print(\"MSE:\", mean_squared_error(true, pred))\n",
    "    print(\"RMSE:\", sqrt(mean_squared_error(true, pred)))\n",
    "    print(\"MAE:\", mean_absolute_error(true, pred))\n",
    "    print(\"MAPE:\", mean_absolute_percentage_error(true, pred))\n",
    "    print(\"R2:\", r2_score(true, pred))"
   ],
   "metadata": {
    "collapsed": false,
    "ExecuteTime": {
     "end_time": "2024-01-03T12:12:19.005286Z",
     "start_time": "2024-01-03T12:12:19.002904Z"
    }
   }
  },
  {
   "cell_type": "code",
   "execution_count": 24,
   "outputs": [],
   "source": [
    "def plot_train_n_pred(X_train, X_test, total, model):\n",
    "    with torch.no_grad():\n",
    "        train_plot = np.ones_like(total) * np.nan\n",
    "        y_pred = model(X_train)\n",
    "        y_pred = y_pred[:, -1]\n",
    "        train_size = len(X_train)\n",
    "        train_plot[lookback:train_size + 1] = model(X_train)[:, -1]\n",
    "        test_plot = np.ones_like(total) * np.nan\n",
    "        test_plot[train_size + lookback:len(total) - 1] = model(X_test)[:, -1]\n",
    "\n",
    "    plt.rcParams[\"figure.figsize\"] = [12, 7]\n",
    "    plt.plot(total, c='b')\n",
    "    plt.plot(train_plot, c='r')\n",
    "    plt.plot(test_plot, c='g')\n",
    "    plt.show()"
   ],
   "metadata": {
    "collapsed": false,
    "ExecuteTime": {
     "end_time": "2024-01-03T12:12:19.005844Z",
     "start_time": "2024-01-03T12:12:19.003793Z"
    }
   }
  },
  {
   "cell_type": "code",
   "execution_count": 25,
   "outputs": [],
   "source": [
    "def validate_on_measurement(model):\n",
    "    valid_train, valid_test, valid_total = data_split(validation)\n",
    "\n",
    "    X_train, _ = create_dataset(valid_train, lookback=lookback)\n",
    "    X_test, y_test = create_dataset(valid_test, lookback=lookback)\n",
    "\n",
    "    y_pred = model(X_test)\n",
    "    y_pred_test = y_pred\n",
    "\n",
    "    print(f\"Метрики:\")\n",
    "    try:\n",
    "        validate(y_pred_test, y_test)\n",
    "    except:\n",
    "        validate(y_pred_test.detach(), y_test.detach())\n",
    "    plot_train_n_pred(X_train, X_test, valid_total, model)"
   ],
   "metadata": {
    "collapsed": false,
    "ExecuteTime": {
     "end_time": "2024-01-03T12:12:19.008995Z",
     "start_time": "2024-01-03T12:12:19.006441Z"
    }
   }
  },
  {
   "cell_type": "code",
   "execution_count": 26,
   "outputs": [
    {
     "name": "stdout",
     "output_type": "stream",
     "text": [
      "Метрики:\n",
      "MSE: 0.0019183691\n",
      "RMSE: 0.04379919050910926\n",
      "MAE: 0.010408151\n",
      "MAPE: 3.1491391360759735\n",
      "R2: 0.8332204414938403\n"
     ]
    },
    {
     "data": {
      "text/plain": "<Figure size 1200x700 with 1 Axes>",
      "image/png": "[encoded data removed]"
     },
     "metadata": {},
     "output_type": "display_data"
    }
   ],
   "source": [
    "validate_on_measurement(model)"
   ],
   "metadata": {
    "collapsed": false,
    "ExecuteTime": {
     "end_time": "2024-01-03T12:12:19.595812Z",
     "start_time": "2024-01-03T12:12:19.011968Z"
    }
   }
  },
  {
   "cell_type": "code",
   "execution_count": 26,
   "outputs": [],
   "source": [],
   "metadata": {
    "collapsed": false,
    "ExecuteTime": {
     "end_time": "2024-01-03T12:12:19.596603Z",
     "start_time": "2024-01-03T12:12:19.594134Z"
    }
   }
  }
 ],
 "metadata": {
  "kernelspec": {
   "display_name": "Python 3",
   "language": "python",
   "name": "python3"
  },
  "language_info": {
   "codemirror_mode": {
    "name": "ipython",
    "version": 2
   },
   "file_extension": ".py",
   "mimetype": "text/x-python",
   "name": "python",
   "nbconvert_exporter": "python",
   "pygments_lexer": "ipython2",
   "version": "2.7.6"
  }
 },
 "nbformat": 4,
 "nbformat_minor": 0
}
