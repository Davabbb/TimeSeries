{
 "cells": [
  {
   "cell_type": "code",
   "execution_count": 6,
   "metadata": {
    "ExecuteTime": {
     "end_time": "2023-04-14T23:23:50.392624Z",
     "start_time": "2023-04-14T23:23:50.379744Z"
    }
   },
   "outputs": [
    {
     "ename": "ModuleNotFoundError",
     "evalue": "No module named 'pandas'",
     "output_type": "error",
     "traceback": [
      "\u001b[0;31m---------------------------------------------------------------------------\u001b[0m",
      "\u001b[0;31mModuleNotFoundError\u001b[0m                       Traceback (most recent call last)",
      "Cell \u001b[0;32mIn[6], line 1\u001b[0m\n\u001b[0;32m----> 1\u001b[0m \u001b[38;5;28;01mimport\u001b[39;00m \u001b[38;5;21;01mpandas\u001b[39;00m \u001b[38;5;28;01mas\u001b[39;00m \u001b[38;5;21;01mpd\u001b[39;00m\n\u001b[1;32m      2\u001b[0m \u001b[38;5;28;01mimport\u001b[39;00m \u001b[38;5;21;01mmatplotlib\u001b[39;00m\u001b[38;5;21;01m.\u001b[39;00m\u001b[38;5;21;01mpyplot\u001b[39;00m  \u001b[38;5;28;01mas\u001b[39;00m \u001b[38;5;21;01mplt\u001b[39;00m\n\u001b[1;32m      3\u001b[0m \u001b[38;5;28;01mimport\u001b[39;00m \u001b[38;5;21;01mos\u001b[39;00m\n",
      "\u001b[0;31mModuleNotFoundError\u001b[0m: No module named 'pandas'"
     ]
    }
   ],
   "source": [
    "import pandas as pd\n",
    "import matplotlib.pyplot  as plt\n",
    "import os\n",
    "\n",
    "from gluonts.dataset.pandas import PandasDataset\n",
    "from gluonts.dataset.split import split\n",
    "from gluonts.torch import DeepAREstimator\n",
    "\n",
    "import lightning.pytorch as pl\n",
    "from lightning.pytorch.callbacks import EarlyStopping\n",
    "import matplotlib.pyplot as pl\n",
    "import pandas as pd\n",
    "import torch\n",
    "\n",
    "from pytorch_forecasting import Baseline, DeepAR, TimeSeriesDataSet\n",
    "from pytorch_forecasting.data import NaNLabelEncoder\n",
    "from pytorch_forecasting.data.examples import generate_ar_data\n",
    "from pytorch_forecasting.metrics import MAE, SMAPE, MultivariateNormalDistributionLoss\n",
    "\n",
    "from lightning.pytorch.tuner import Tuner"
   ]
  },
  {
   "attachments": {},
   "cell_type": "markdown",
   "metadata": {},
   "source": [
    "### Подготовка данных для использования нейросетью"
   ]
  },
  {
   "cell_type": "code",
   "execution_count": null,
   "metadata": {
    "ExecuteTime": {
     "end_time": "2023-04-14T23:23:50.547322Z",
     "start_time": "2023-04-14T23:23:50.394056Z"
    }
   },
   "outputs": [
    {
     "ename": "",
     "evalue": "",
     "output_type": "error",
     "traceback": [
      "\u001b[1;31mДля выполнения ячеек с \"/opt/homebrew/bin/python3.12\" требуется пакет ipykernel.\n",
      "\u001b[1;31mRun the following command to install 'ipykernel' into the Python environment. \n",
      "\u001b[1;31mCommand: '/opt/homebrew/bin/python3.12 -m pip install ipykernel -U --user --force-reinstall'"
     ]
    }
   ],
   "source": [
    "dirname = os.path.join(os.path.abspath(os.curdir), 'data', 'underwork')\n",
    "\n",
    "raw_data = {\"3\":(), \"5\":(), \"8\":(), \"10\":(), \"14\":(), \"15\":()}\n",
    "for v in raw_data:\n",
    "    tsdf_c = pd.read_csv(os.path.join(os.sep, dirname, v, 'calm_p.csv'))\n",
    "    tsdf_w = pd.read_csv(os.path.join(os.sep, dirname, v,  'work_p.csv'))\n",
    "    tsdf_m = pd.read_csv(os.path.join(os.sep, dirname, v, 'meta_p.csv'))\n",
    "    raw_data[v] = (tsdf_c, tsdf_w, tsdf_m)"
   ]
  },
  {
   "cell_type": "code",
   "execution_count": null,
   "metadata": {
    "ExecuteTime": {
     "end_time": "2023-04-14T23:23:50.561657Z",
     "start_time": "2023-04-14T23:23:50.552749Z"
    }
   },
   "outputs": [
    {
     "ename": "",
     "evalue": "",
     "output_type": "error",
     "traceback": [
      "\u001b[1;31mДля выполнения ячеек с \"/opt/homebrew/bin/python3.12\" требуется пакет ipykernel.\n",
      "\u001b[1;31mRun the following command to install 'ipykernel' into the Python environment. \n",
      "\u001b[1;31mCommand: '/opt/homebrew/bin/python3.12 -m pip install ipykernel -U --user --force-reinstall'"
     ]
    }
   ],
   "source": [
    "data = {\"3\":(), \"5\":(), \"8\":(), \"10\":(), \"14\":(), \"15\":()}\n",
    "\n",
    "for v in raw_data:\n",
    "    calm = raw_data[v][0]\n",
    "    work = raw_data[v][1]\n",
    "    sex = raw_data[v][2].iloc[0][\"values\"]\n",
    "    weight = raw_data[v][2].iloc[1][\"values\"]\n",
    "    height = raw_data[v][2].iloc[2][\"values\"]\n",
    "    calm[\"sex\"] = sex\n",
    "    calm[\"weight\"] = weight\n",
    "    calm[\"height\"] = height\n",
    "    calm[\"state\"] = 0\n",
    "    work[\"sex\"] = sex\n",
    "    work[\"weight\"] = weight\n",
    "    work[\"height\"] = height\n",
    "    work[\"state\"] = 1\n",
    "    data[v] = (calm, work)"
   ]
  },
  {
   "cell_type": "code",
   "execution_count": null,
   "metadata": {
    "ExecuteTime": {
     "end_time": "2023-04-14T23:23:50.656389Z",
     "start_time": "2023-04-14T23:23:50.565792Z"
    }
   },
   "outputs": [
    {
     "ename": "",
     "evalue": "",
     "output_type": "error",
     "traceback": [
      "\u001b[1;31mДля выполнения ячеек с \"/opt/homebrew/bin/python3.12\" требуется пакет ipykernel.\n",
      "\u001b[1;31mRun the following command to install 'ipykernel' into the Python environment. \n",
      "\u001b[1;31mCommand: '/opt/homebrew/bin/python3.12 -m pip install ipykernel -U --user --force-reinstall'"
     ]
    }
   ],
   "source": [
    "validation = {\"25\":(), \"27\":()}\n",
    "for v in validation:\n",
    "    calm = pd.read_csv(os.path.join(os.sep, dirname, v, 'calm_p.csv'))\n",
    "    work = pd.read_csv(os.path.join(os.sep, dirname, v,  'work_p.csv'))\n",
    "    tsdf_m = pd.read_csv(os.path.join(os.sep, dirname, v, 'meta_p.csv'))\n",
    "    sex = tsdf_m.iloc[0][\"values\"]\n",
    "    weight = tsdf_m.iloc[1][\"values\"]\n",
    "    height = tsdf_m.iloc[2][\"values\"]\n",
    "    calm[\"sex\"] = sex\n",
    "    calm[\"weight\"] = weight\n",
    "    calm[\"height\"] = height\n",
    "    calm[\"state\"] = 0\n",
    "    work[\"sex\"] = sex\n",
    "    work[\"weight\"] = weight\n",
    "    work[\"height\"] = height\n",
    "    work[\"state\"] = 1\n",
    "    validation[v] = (calm, work)"
   ]
  },
  {
   "attachments": {},
   "cell_type": "markdown",
   "metadata": {},
   "source": [
    "# LSTM"
   ]
  },
  {
   "cell_type": "markdown",
   "metadata": {},
   "source": [
    "#### Нейронные сети\n",
    "\n",
    "Искусственная нейронная сеть представляет собой слоистую структуру из связанных\n",
    "нейронов, вдохновленную биологическими нейронными сетями. Это не один алгоритм,\n",
    "а комбинация различных алгоритмов, которая позволяет нам выполнять сложные\n",
    "операции с данными.\n",
    "\n",
    "#### Рекуррентные нейронные сети\n",
    "Рекуррентные нейронные сети (RNN) — это класс нейронных сетей, которые хороши\n",
    "для моделирования последовательных данных, таких как временные ряды или\n",
    "естественный язык, значения сенсоров в течении некоторого временного промежутка.\n",
    "В общем смысле, RNN применяются в моделировании языка (англ. Language Modelling)\n",
    "и генерация текста, распознавании речи, генерации описания к изображениям (не\n",
    "только текстового, но и по возможным другим параметрам) или маркировке видео\n",
    "(англ. Video Tagging)\n",
    "\n",
    "Подобно нейронным сетям с прямой связью (англ. Feedforward Neural Network, FNN)\n",
    "и CNN, рекуррентные нейронные сети используют обучающие данные для изменения\n",
    "своих весов. Основным отличием от других видов сетей является ''память'', суть\n",
    "которой в том, что в процессе обработки входной информации текущим слоем в RNN,\n",
    "используются входные параметры к некоторым предыдущим слоям сети (таким образом\n",
    "влияя на результат работы текущего слоя сети). В то время как традиционные\n",
    "глубокие нейронные сети предполагают, что входные и выходные данные слоев\n",
    "независимы друг от друга, выходы рекуррентных нейронных сетей зависят от\n",
    "предшествующих элементов внутри последовательности этих слоев. Хотя будущие\n",
    "преобразования также могут быть полезны для определения результата данной\n",
    "последовательности, однонаправленные рекуррентные нейронные сети не могут\n",
    "учитывать эти преобразования в своих прогнозах.\n",
    "\n",
    "Однако при использовании первых архитектур RNN возникала проблема потери\n",
    "способности связывать информацию из-за уменьшения аргументов слоев сети на\n",
    "текущий обрабатываемый слой при увеличении ''расстояния'' между слоем (то есть\n",
    "чем дальше слой $B$ от слоя $A$, тем меньше слой $A$ влияет на слой $B$). Время\n",
    "от времени значение градиента может становиться бесконечно малым, что\n",
    "препятствует обновлению значения веса. На практике была представлена реализация\n",
    "модификации рекуррентной нейросети, которая способна к обучению долговременным\n",
    "зависимостям. Название такого подкласса RNN \"--- сеть с долгой краткосрочной\n",
    "памятью (англ. Long Short-Term Memory, LSTM)."
   ]
  },
  {
   "attachments": {},
   "cell_type": "markdown",
   "metadata": {},
   "source": [
    "![Виды ячеек разных сетей](pics/rnn-lstm.png \"Title\")\n",
    "\n",
    "![Легенда](pics/legend.png \"Title\")"
   ]
  },
  {
   "attachments": {},
   "cell_type": "markdown",
   "metadata": {},
   "source": [
    "#### LSTM\n",
    "\n",
    "Это особый вид рекуррентной нейронной сети, способной изучать долгосрочные\n",
    "зависимости в данных. Это достигается за счет того, что повторяющийся модуль\n",
    "модели имеет комбинацию четырех слоев, взаимодействующих друг с другом."
   ]
  },
  {
   "attachments": {},
   "cell_type": "markdown",
   "metadata": {},
   "source": [
    "На рисунке посередине изображены четыре слоя нейронной сети LSTM в желтых\n",
    "прямоугольниках ($\\sigma$, $\\tanh$), ввод через $x_t$ и состояние ячейки через\n",
    "$h_t$. Модуль LSTM имеет состояние ячейки и три шлюза, что дает им возможность\n",
    "выборочно изучать, отключать или сохранять информацию от каждого из модулей.\n",
    "Состояние ячейки в LSTM помогает информации проходить через единицы без\n",
    "изменения, позволяя только несколько линейных взаимодействий."
   ]
  },
  {
   "attachments": {},
   "cell_type": "markdown",
   "metadata": {},
   "source": [
    "Таким образом, для каждого элемента входной последовательности каждый $t$-ый слой\n",
    "LSTM модели осуществляет следующие вычисления:\n",
    "\n",
    "$$i_t = \\sigma(W_{ii} x_t + b_{ii} + W_{hi} h_{t - 1} + b_{hi}) ;$$\n",
    "$$f_t = \\sigma(W_{if} x_t + b_{if} + W_{hf} h_{t - 1} + b_{hf}) ;$$\n",
    "$$g_t = \\tanh(W_{ig} x_t + b_{ig} + W_{hg} h_{t - 1} + b_{hg}) ;$$\n",
    "$$o_t = \\sigma(W_{io} x_t + b_{io} + W_{ho} h_{t - 1} + b_{ho}) ;$$\n",
    "$$c_t = f_t \\odot c_{t - 1} + i_t \\odot g_t ;$$\n",
    "$$h_t = o_t \\odot \\tanh(c_t) ,$$\n",
    "\n",
    "где $h_t, c_t, x_t$ - скрытое состояние слоя модели, состояние клетки и\n",
    "входной параметр в момент времени $t$ соответственно; $h_{t - 1}$ определяет\n",
    "скрытое состояние слоя в момент времени $t - 1$ или начальное скрытое состояние\n",
    "в момент времени $o$. Элементы $i_t, f_t, g_t, o_t$ являются входными,\n",
    "забывающими, клеточными и выходными воротами соответственно. Символ $\\sigma$\n",
    "определяет функцию сигмоиды, $\\odot$ - поэлементное произведение, также\n",
    "называемое произведением Адамара."
   ]
  },
  {
   "cell_type": "markdown",
   "metadata": {},
   "source": []
  },
  {
   "attachments": {},
   "cell_type": "markdown",
   "metadata": {},
   "source": [
    "#### Функция по разделению набора данных на обучающую и тестовую выборки"
   ]
  },
  {
   "cell_type": "code",
   "execution_count": null,
   "metadata": {
    "ExecuteTime": {
     "end_time": "2023-04-14T23:23:50.671929Z",
     "start_time": "2023-04-14T23:23:50.659469Z"
    }
   },
   "outputs": [
    {
     "ename": "",
     "evalue": "",
     "output_type": "error",
     "traceback": [
      "\u001b[1;31mДля выполнения ячеек с \"/opt/homebrew/bin/python3.12\" требуется пакет ipykernel.\n",
      "\u001b[1;31mRun the following command to install 'ipykernel' into the Python environment. \n",
      "\u001b[1;31mCommand: '/opt/homebrew/bin/python3.12 -m pip install ipykernel -U --user --force-reinstall'"
     ]
    }
   ],
   "source": [
    "def data_split(ts, param=\"1\", train_percentage=0.67):\n",
    "    timeseries = ts[[\"1\"]].values.astype('float32')\n",
    "    train_size = int(len(timeseries) * train_percentage)\n",
    "    train, test = timeseries[:train_size], timeseries[train_size:]\n",
    "    return train, test, timeseries"
   ]
  },
  {
   "attachments": {},
   "cell_type": "markdown",
   "metadata": {},
   "source": [
    "#### Функция по преобразованию выборки в тензорный вид (необходимый для использования нейросетью)"
   ]
  },
  {
   "cell_type": "code",
   "execution_count": null,
   "metadata": {
    "ExecuteTime": {
     "end_time": "2023-04-14T23:23:53.157544Z",
     "start_time": "2023-04-14T23:23:50.674209Z"
    }
   },
   "outputs": [
    {
     "ename": "",
     "evalue": "",
     "output_type": "error",
     "traceback": [
      "\u001b[1;31mДля выполнения ячеек с \"/opt/homebrew/bin/python3.12\" требуется пакет ipykernel.\n",
      "\u001b[1;31mRun the following command to install 'ipykernel' into the Python environment. \n",
      "\u001b[1;31mCommand: '/opt/homebrew/bin/python3.12 -m pip install ipykernel -U --user --force-reinstall'"
     ]
    }
   ],
   "source": [
    "import torch\n",
    " \n",
    "def create_dataset(dataset, lookback):\n",
    "    \"\"\"Transform a time series into a prediction dataset\n",
    "    \n",
    "    Args:\n",
    "        dataset: A numpy array of time series, first dimension is the time steps\n",
    "        lookback: Size of window for prediction\n",
    "    \"\"\"\n",
    "    X, y = [], []\n",
    "    for i in range(len(dataset)-lookback):\n",
    "        feature = dataset[i:i+lookback]\n",
    "        target = dataset[i+1:i+lookback+1]\n",
    "        X.append(feature)\n",
    "        y.append(target)\n",
    "    return torch.tensor(X), torch.tensor(y)"
   ]
  },
  {
   "attachments": {},
   "cell_type": "markdown",
   "metadata": {},
   "source": [
    "#### С помощью класса описывается базовая нейросеть LSTM\n",
    "(возможно усложнение архиктуры в целях повышения качества)"
   ]
  },
  {
   "cell_type": "code",
   "execution_count": null,
   "metadata": {
    "ExecuteTime": {
     "end_time": "2023-04-14T23:23:53.173161Z",
     "start_time": "2023-04-14T23:23:53.158123Z"
    }
   },
   "outputs": [
    {
     "ename": "",
     "evalue": "",
     "output_type": "error",
     "traceback": [
      "\u001b[1;31mДля выполнения ячеек с \"/opt/homebrew/bin/python3.12\" требуется пакет ipykernel.\n",
      "\u001b[1;31mRun the following command to install 'ipykernel' into the Python environment. \n",
      "\u001b[1;31mCommand: '/opt/homebrew/bin/python3.12 -m pip install ipykernel -U --user --force-reinstall'"
     ]
    }
   ],
   "source": [
    "import torch.nn as nn\n",
    " \n",
    "class AirModel(nn.Module):\n",
    "    def __init__(self):\n",
    "        super().__init__()\n",
    "        self.lstm = nn.LSTM(input_size=1, hidden_size=50, num_layers=1, batch_first=True)\n",
    "        self.linear = nn.Linear(50, 1)\n",
    "    def forward(self, x):\n",
    "        x, _ = self.lstm(x)\n",
    "        x = self.linear(x)\n",
    "        return x"
   ]
  },
  {
   "attachments": {},
   "cell_type": "markdown",
   "metadata": {},
   "source": [
    "#### Создается объект выборки, затем делится на тренировочную и тестовую с помощью функций, описанных выше"
   ]
  },
  {
   "cell_type": "code",
   "execution_count": null,
   "metadata": {
    "ExecuteTime": {
     "end_time": "2023-04-14T23:23:53.642432Z",
     "start_time": "2023-04-14T23:23:53.176454Z"
    }
   },
   "outputs": [
    {
     "ename": "",
     "evalue": "",
     "output_type": "error",
     "traceback": [
      "\u001b[1;31mДля выполнения ячеек с \"/opt/homebrew/bin/python3.12\" требуется пакет ipykernel.\n",
      "\u001b[1;31mRun the following command to install 'ipykernel' into the Python environment. \n",
      "\u001b[1;31mCommand: '/opt/homebrew/bin/python3.12 -m pip install ipykernel -U --user --force-reinstall'"
     ]
    }
   ],
   "source": [
    "ts = pd.DataFrame()\n",
    "\n",
    "for v in data:\n",
    "   calm = data[v][0]\n",
    "   work = data[v][1]\n",
    "   ts = pd.concat([ts, calm, work], sort=False, axis=0)\n",
    "print(ts.shape[0])\n",
    "\n",
    "\n",
    "train, test, total = data_split(ts)\n",
    "lookback = 1\n",
    "X_train, y_train = create_dataset(train, lookback=lookback)\n",
    "X_test, y_test = create_dataset(test, lookback=lookback)"
   ]
  },
  {
   "attachments": {},
   "cell_type": "markdown",
   "metadata": {},
   "source": [
    "#### Создается объект нейросети, оптимизатора, функции потерь и объекта загрузчика.\n",
    "Данные объекты необходимы для осуществления обучения нейросети с помощью\n",
    "библиотеки pytorch.\n",
    "\n",
    "Указывается также количество эпох для обучения (итераций)"
   ]
  },
  {
   "cell_type": "code",
   "execution_count": null,
   "metadata": {
    "ExecuteTime": {
     "end_time": "2023-04-14T23:23:53.683348Z",
     "start_time": "2023-04-14T23:23:53.644701Z"
    }
   },
   "outputs": [
    {
     "ename": "",
     "evalue": "",
     "output_type": "error",
     "traceback": [
      "\u001b[1;31mДля выполнения ячеек с \"/opt/homebrew/bin/python3.12\" требуется пакет ipykernel.\n",
      "\u001b[1;31mRun the following command to install 'ipykernel' into the Python environment. \n",
      "\u001b[1;31mCommand: '/opt/homebrew/bin/python3.12 -m pip install ipykernel -U --user --force-reinstall'"
     ]
    }
   ],
   "source": [
    "import numpy as np\n",
    "import torch.optim as optim\n",
    "import torch.utils.data as torch_data\n",
    " \n",
    "model = AirModel()\n",
    "optimizer = optim.Adam(model.parameters())\n",
    "loss_fn = nn.MSELoss()\n",
    "loader = torch_data.DataLoader(torch_data.TensorDataset(X_train, y_train), shuffle=True, batch_size=8)\n",
    "\n",
    "EPOCHS = 20"
   ]
  },
  {
   "attachments": {},
   "cell_type": "markdown",
   "metadata": {},
   "source": [
    "Описывается функция для обучения"
   ]
  },
  {
   "cell_type": "code",
   "execution_count": null,
   "metadata": {
    "ExecuteTime": {
     "end_time": "2023-04-14T23:23:53.695808Z",
     "start_time": "2023-04-14T23:23:53.673320Z"
    }
   },
   "outputs": [
    {
     "ename": "",
     "evalue": "",
     "output_type": "error",
     "traceback": [
      "\u001b[1;31mДля выполнения ячеек с \"/opt/homebrew/bin/python3.12\" требуется пакет ipykernel.\n",
      "\u001b[1;31mRun the following command to install 'ipykernel' into the Python environment. \n",
      "\u001b[1;31mCommand: '/opt/homebrew/bin/python3.12 -m pip install ipykernel -U --user --force-reinstall'"
     ]
    }
   ],
   "source": [
    "def train_model(model, X_train, X_test, y_train, y_test, n_epochs):\n",
    "    y_pred_train = None\n",
    "    y_pred_test = None\n",
    "\n",
    "    for epoch in range(n_epochs):\n",
    "        model.train()\n",
    "        for X_batch, y_batch in loader:\n",
    "            y_pred = model(X_batch)\n",
    "            loss = loss_fn(y_pred, y_batch)\n",
    "            optimizer.zero_grad()\n",
    "            loss.backward()\n",
    "            optimizer.step()\n",
    "        # Validation\n",
    "        if epoch % 10 != 0:\n",
    "            continue\n",
    "        model.eval()\n",
    "        with torch.no_grad():\n",
    "            y_pred = model(X_train)\n",
    "            y_pred_train = y_pred\n",
    "            train_rmse = np.sqrt(loss_fn(y_pred, y_train))\n",
    "            y_pred = model(X_test)\n",
    "            y_pred_test = y_pred\n",
    "            test_rmse = np.sqrt(loss_fn(y_pred, y_test))\n",
    "        print(\"Epoch %d: train RMSE %.4f, test RMSE %.4f\" % (epoch, train_rmse, test_rmse))\n",
    "    return y_pred_train, y_pred_test, model"
   ]
  },
  {
   "attachments": {},
   "cell_type": "markdown",
   "metadata": {},
   "source": [
    "#### Запуск обучения нейросети"
   ]
  },
  {
   "cell_type": "code",
   "execution_count": null,
   "metadata": {
    "ExecuteTime": {
     "end_time": "2023-04-14T23:29:17.914821Z",
     "start_time": "2023-04-14T23:23:53.688811Z"
    }
   },
   "outputs": [
    {
     "ename": "",
     "evalue": "",
     "output_type": "error",
     "traceback": [
      "\u001b[1;31mДля выполнения ячеек с \"/opt/homebrew/bin/python3.12\" требуется пакет ipykernel.\n",
      "\u001b[1;31mRun the following command to install 'ipykernel' into the Python environment. \n",
      "\u001b[1;31mCommand: '/opt/homebrew/bin/python3.12 -m pip install ipykernel -U --user --force-reinstall'"
     ]
    }
   ],
   "source": [
    "y_pred_train, y_pred_test, model = train_model(model, X_train, X_test, y_train, y_test, EPOCHS)"
   ]
  },
  {
   "attachments": {},
   "cell_type": "markdown",
   "metadata": {},
   "source": [
    "Сохранение обученной сети"
   ]
  },
  {
   "cell_type": "code",
   "execution_count": null,
   "metadata": {
    "ExecuteTime": {
     "end_time": "2023-04-14T23:29:17.996768Z",
     "start_time": "2023-04-14T23:29:17.918849Z"
    }
   },
   "outputs": [
    {
     "ename": "",
     "evalue": "",
     "output_type": "error",
     "traceback": [
      "\u001b[1;31mДля выполнения ячеек с \"/opt/homebrew/bin/python3.12\" требуется пакет ipykernel.\n",
      "\u001b[1;31mRun the following command to install 'ipykernel' into the Python environment. \n",
      "\u001b[1;31mCommand: '/opt/homebrew/bin/python3.12 -m pip install ipykernel -U --user --force-reinstall'"
     ]
    }
   ],
   "source": [
    "torch.save(model, f\"./lstm_forecast_{EPOCHS}_epochs.pth\")"
   ]
  },
  {
   "attachments": {},
   "cell_type": "markdown",
   "metadata": {},
   "source": [
    "### Пример подсчета метрик и построения графика "
   ]
  },
  {
   "cell_type": "code",
   "execution_count": null,
   "metadata": {
    "ExecuteTime": {
     "end_time": "2023-04-14T23:29:18.571684Z",
     "start_time": "2023-04-14T23:29:17.956481Z"
    }
   },
   "outputs": [
    {
     "ename": "",
     "evalue": "",
     "output_type": "error",
     "traceback": [
      "\u001b[1;31mДля выполнения ячеек с \"/opt/homebrew/bin/python3.12\" требуется пакет ipykernel.\n",
      "\u001b[1;31mRun the following command to install 'ipykernel' into the Python environment. \n",
      "\u001b[1;31mCommand: '/opt/homebrew/bin/python3.12 -m pip install ipykernel -U --user --force-reinstall'"
     ]
    }
   ],
   "source": [
    "import numpy as np\n",
    "from sklearn.metrics import (mean_absolute_error, mean_squared_error,\n",
    "                            r2_score)\n",
    "from math import sqrt\n",
    "\n",
    "def mean_absolute_percentage_error(y_true, y_pred):\n",
    "    return np.mean(np.abs((y_true - y_pred) / y_true)) * 100\n",
    "\n",
    "def validate(true, pred):\n",
    "    true = pd.DataFrame(true.flatten().numpy())[0]\n",
    "    pred = pd.DataFrame(pred.flatten().numpy())[0]\n",
    "    print(\"MSE:\", mean_squared_error(true, pred))\n",
    "    print(\"RMSE:\", sqrt(mean_squared_error(true, pred)))\n",
    "    print(\"MAE:\", mean_absolute_error(true, pred))\n",
    "    print(\"MAPE:\", mean_absolute_percentage_error(true, pred))\n",
    "    print(\"R2:\", r2_score(true, pred))"
   ]
  },
  {
   "cell_type": "code",
   "execution_count": null,
   "metadata": {
    "ExecuteTime": {
     "end_time": "2023-04-14T23:29:18.584951Z",
     "start_time": "2023-04-14T23:29:18.573574Z"
    }
   },
   "outputs": [
    {
     "ename": "",
     "evalue": "",
     "output_type": "error",
     "traceback": [
      "\u001b[1;31mДля выполнения ячеек с \"/opt/homebrew/bin/python3.12\" требуется пакет ipykernel.\n",
      "\u001b[1;31mRun the following command to install 'ipykernel' into the Python environment. \n",
      "\u001b[1;31mCommand: '/opt/homebrew/bin/python3.12 -m pip install ipykernel -U --user --force-reinstall'"
     ]
    }
   ],
   "source": [
    "def plot_train_n_pred(X_train, X_test, total, model):\n",
    "    with torch.no_grad():\n",
    "    # shift train predictions for plotting\n",
    "        train_plot = np.ones_like(total) * np.nan\n",
    "        y_pred = model(X_train)\n",
    "        y_pred = y_pred[:, -1, :]\n",
    "        train_size = len(X_train)\n",
    "        train_plot[lookback:train_size + 1] = model(X_train)[:, -1, :]\n",
    "        # shift test predictions for plotting\n",
    "        test_plot = np.ones_like(total) * np.nan\n",
    "        test_plot[train_size + lookback:len(total) - 1] = model(X_test)[:, -1, :]\n",
    "\n",
    "    plt.rcParams[\"figure.figsize\"] = [12, 7]\n",
    "    plt.plot(total, c='b')\n",
    "    plt.plot(train_plot, c='r')\n",
    "    plt.plot(test_plot, c='g')\n",
    "    plt.show()"
   ]
  },
  {
   "cell_type": "code",
   "execution_count": null,
   "metadata": {
    "ExecuteTime": {
     "end_time": "2023-04-14T23:29:18.654636Z",
     "start_time": "2023-04-14T23:29:18.591985Z"
    }
   },
   "outputs": [
    {
     "ename": "",
     "evalue": "",
     "output_type": "error",
     "traceback": [
      "\u001b[1;31mДля выполнения ячеек с \"/opt/homebrew/bin/python3.12\" требуется пакет ipykernel.\n",
      "\u001b[1;31mRun the following command to install 'ipykernel' into the Python environment. \n",
      "\u001b[1;31mCommand: '/opt/homebrew/bin/python3.12 -m pip install ipykernel -U --user --force-reinstall'"
     ]
    }
   ],
   "source": [
    "def validate_on_new_users(model):\n",
    "    for v in validation:\n",
    "        calm = validation[v][0]\n",
    "        work = validation[v][1]\n",
    "        valid = pd.concat([calm, work], sort=False, axis=0)\n",
    "        valid_train, valid_test, valid_total = data_split(valid)\n",
    "        \n",
    "        lookback = 1\n",
    "        X_train, _ = create_dataset(valid_train, lookback=lookback)\n",
    "        X_test, y_test = create_dataset(valid_test, lookback=lookback)\n",
    "\n",
    "        y_pred = model(X_test)\n",
    "        y_pred_test = y_pred\n",
    "        \n",
    "        print(f\"Метрики для пациента {v}:\")\n",
    "        try:\n",
    "            validate(y_pred_test, y_test)\n",
    "        except:\n",
    "            validate(y_pred_test.detach(), y_test.detach())\n",
    "        plot_train_n_pred(X_train, X_test, valid_total, model)"
   ]
  },
  {
   "attachments": {},
   "cell_type": "markdown",
   "metadata": {},
   "source": [
    "Вывод значений метрик, а также построение графика"
   ]
  },
  {
   "cell_type": "code",
   "execution_count": null,
   "metadata": {
    "ExecuteTime": {
     "end_time": "2023-04-14T23:29:20.277839Z",
     "start_time": "2023-04-14T23:29:18.610098Z"
    }
   },
   "outputs": [
    {
     "ename": "",
     "evalue": "",
     "output_type": "error",
     "traceback": [
      "\u001b[1;31mДля выполнения ячеек с \"/opt/homebrew/bin/python3.12\" требуется пакет ipykernel.\n",
      "\u001b[1;31mRun the following command to install 'ipykernel' into the Python environment. \n",
      "\u001b[1;31mCommand: '/opt/homebrew/bin/python3.12 -m pip install ipykernel -U --user --force-reinstall'"
     ]
    }
   ],
   "source": [
    "validate_on_new_users(model)"
   ]
  },
  {
   "cell_type": "code",
   "execution_count": null,
   "metadata": {
    "ExecuteTime": {
     "end_time": "2023-04-14T23:29:20.292821Z",
     "start_time": "2023-04-14T23:29:20.280822Z"
    }
   },
   "outputs": [
    {
     "ename": "",
     "evalue": "",
     "output_type": "error",
     "traceback": [
      "\u001b[1;31mДля выполнения ячеек с \"/opt/homebrew/bin/python3.12\" требуется пакет ipykernel.\n",
      "\u001b[1;31mRun the following command to install 'ipykernel' into the Python environment. \n",
      "\u001b[1;31mCommand: '/opt/homebrew/bin/python3.12 -m pip install ipykernel -U --user --force-reinstall'"
     ]
    }
   ],
   "source": []
  }
 ],
 "metadata": {
  "interpreter": {
   "hash": "e7370f93d1d0cde622a1f8e1c04877d8463912d04d973331ad4851f04de6915a"
  },
  "kernelspec": {
   "display_name": "Python 3 (ipykernel)",
   "language": "python",
   "name": "python3"
  },
  "language_info": {
   "codemirror_mode": {
    "name": "ipython",
    "version": 3
   },
   "file_extension": ".py",
   "mimetype": "text/x-python",
   "name": "python",
   "nbconvert_exporter": "python",
   "pygments_lexer": "ipython3",
   "version": "3.12.0"
  },
  "orig_nbformat": 4
 },
 "nbformat": 4,
 "nbformat_minor": 2
}
